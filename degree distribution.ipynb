{
 "metadata": {
  "language_info": {
   "name": "python",
   "version": "3.9.7",
   "mimetype": "text/x-python",
   "codemirror_mode": {
    "name": "ipython",
    "version": 3
   },
   "pygments_lexer": "ipython3",
   "nbconvert_exporter": "python",
   "file_extension": ".py"
  },
  "orig_nbformat": 2,
  "kernelspec": {
   "name": "python3",
   "display_name": "Python 3.9.7 64-bit"
  },
  "interpreter": {
   "hash": "ac59ebe37160ed0dfa835113d9b8498d9f09ceb179beaac4002f036b9467c963"
  }
 },
 "nbformat": 4,
 "nbformat_minor": 2,
 "cells": [
  {
   "cell_type": "code",
   "execution_count": 107,
   "source": [
    "# generate random floating point values\r\n",
    "from random import seed\r\n",
    "from random import random\r\n",
    "from random import randint\r\n",
    "from itertools import combinations\r\n",
    "import matplotlib.pyplot as plt\r\n",
    "import numpy as np\r\n",
    "from scipy.stats import binom\r\n",
    "import matplotlib.pyplot as plt\r\n",
    "import networkx as nx\r\n",
    "from collections import Counter\r\n",
    "from itertools import chain\r\n",
    "from collections import OrderedDict\r\n",
    "import math "
   ],
   "outputs": [],
   "metadata": {}
  },
  {
   "cell_type": "code",
   "execution_count": 108,
   "source": [
    "nodes=[i for i in range(1,6)]\r\n",
    "pairs = list(combinations(nodes, 2))\r\n",
    "print(pairs)"
   ],
   "outputs": [
    {
     "output_type": "stream",
     "name": "stdout",
     "text": [
      "[(1, 2), (1, 3), (1, 4), (1, 5), (2, 3), (2, 4), (2, 5), (3, 4), (3, 5), (4, 5)]\n"
     ]
    }
   ],
   "metadata": {}
  },
  {
   "cell_type": "code",
   "execution_count": 109,
   "source": [
    "n=len(nodes)\r\n",
    "p=0.38\r\n",
    "edge_list=list()\r\n",
    "\r\n",
    "for i in pairs:\r\n",
    "    gen_prob=randint(0,1)\r\n",
    "    if gen_prob<p:\r\n",
    "        edge_list.append(i)\r\n",
    "    else:\r\n",
    "        pass\r\n",
    "print(edge_list)\r\n"
   ],
   "outputs": [
    {
     "output_type": "stream",
     "name": "stdout",
     "text": [
      "[(1, 2), (1, 3), (2, 3), (3, 5)]\n"
     ]
    }
   ],
   "metadata": {}
  },
  {
   "cell_type": "code",
   "execution_count": 110,
   "source": [
    "G = nx.Graph()\r\n",
    "\r\n",
    "G.add_nodes_from(list(nodes))\r\n",
    "G.add_edges_from(edge_list)\r\n",
    "\r\n",
    "plt.figure()\r\n",
    "nx.draw(G, with_labels=True)\r\n",
    "plt.show()"
   ],
   "outputs": [
    {
     "output_type": "display_data",
     "data": {
      "image/png": "[encoded data removed]",
      "text/plain": [
       "<Figure size 432x288 with 1 Axes>"
      ]
     },
     "metadata": {}
    }
   ],
   "metadata": {}
  },
  {
   "cell_type": "code",
   "execution_count": 111,
   "source": [
    "EdgeList = [i for j in edge_list for i in j]\r\n",
    "def countX(EdgeList, x):\r\n",
    "    return EdgeList.count(x)\r\n",
    "dict_degree ={}\r\n",
    "\r\n",
    "for x in EdgeList:\r\n",
    "    case = {x:countX(EdgeList, x)}\r\n",
    "    dict_degree.update(case)\r\n",
    "#dict_degree = OrderedDict(sorted(dict_degree.items()))    \r\n",
    "print(dict_degree)\r\n",
    "\r\n",
    "plt.bar(dict_degree.keys(), dict_degree.values(), color='g')\r\n",
    "plt.show()"
   ],
   "outputs": [
    {
     "output_type": "stream",
     "name": "stdout",
     "text": [
      "{1: 2, 2: 2, 3: 3, 5: 1}\n"
     ]
    },
    {
     "output_type": "display_data",
     "data": {
      "image/png": "[encoded data removed]",
      "text/plain": [
       "<Figure size 432x288 with 1 Axes>"
      ]
     },
     "metadata": {
      "needs_background": "light"
     }
    }
   ],
   "metadata": {}
  },
  {
   "cell_type": "code",
   "execution_count": 112,
   "source": [
    "#degree distribution\r\n",
    "print(dict_degree)\r\n",
    "degrees = dict_degree.values()\r\n",
    "\r\n",
    "degrees_list = list(degrees) \r\n",
    "print(degrees_list)\r\n",
    "\r\n",
    "dict_degrees = {}\r\n",
    "for x in degrees_list:\r\n",
    "    case = {x:countX(degrees_list, x)}\r\n",
    "    dict_degrees.update(case)\r\n",
    "print(dict_degrees)\r\n",
    "\r\n",
    "probs = list()\r\n",
    "for key, value in dict_degrees.items(): \r\n",
    "    probs.append(value/n)\r\n",
    "#print(probs)\r\n",
    "\r\n",
    "numdegrees = dict_degrees.keys()\r\n",
    "\r\n",
    "plt.bar(numdegrees,probs,color='g')\r\n",
    "plt.show()\r\n"
   ],
   "outputs": [
    {
     "output_type": "stream",
     "name": "stdout",
     "text": [
      "{1: 2, 2: 2, 3: 3, 5: 1}\n",
      "[2, 2, 3, 1]\n",
      "{2: 2, 3: 1, 1: 1}\n"
     ]
    },
    {
     "output_type": "display_data",
     "data": {
      "image/png": "[encoded data removed]",
      "text/plain": [
       "<Figure size 432x288 with 1 Axes>"
      ]
     },
     "metadata": {
      "needs_background": "light"
     }
    }
   ],
   "metadata": {}
  },
  {
   "cell_type": "code",
   "execution_count": 113,
   "source": [
    "#Theoretical average degree \r\n",
    "#In an undirected network the total number of links, L, can be expressed as the sum of the node degrees \r\n",
    "#divided by two. \r\n",
    "total_degrees = sum(degrees_list)\r\n",
    "L = total_degrees*(1/2)\r\n",
    "print(\"Total number of links is\", L)\r\n",
    "k = (2*L)/n #average degree\r\n",
    "print(\"Theoretical average degree is\", k)\r\n",
    "\r\n",
    "#Empirical average degree \r\n",
    "number_of_k=(len(edge_list))/n\r\n",
    "print(\"Empirical average degree is\", number_of_k, \"We divide number of pairs in edge list by total number of nodes.\")\r\n",
    "\r\n",
    "\r\n",
    "#Empirical variance of the degree\r\n",
    "#Square root of \r\n",
    "t = list()\r\n",
    "for i in degrees_list:\r\n",
    "    t.append((i-number_of_k)**2)\r\n",
    "print(t)\r\n",
    "emp_var = math.sqrt((sum(t)/n))\r\n",
    "print(emp_var)"
   ],
   "outputs": [
    {
     "output_type": "stream",
     "name": "stdout",
     "text": [
      "Total number of links is 4.0\n",
      "Theoretical average degree is 1.6\n",
      "Empirical average degree is 0.8 We divide number of pairs in edge list by total number of nodes.\n",
      "[1.44, 1.44, 4.840000000000001, 0.03999999999999998]\n",
      "1.245792920191795\n"
     ]
    }
   ],
   "metadata": {}
  },
  {
   "cell_type": "code",
   "execution_count": 114,
   "source": [
    "#Chain and star graphs\r\n",
    "average_ch_st = (2*(n-1))/n\r\n",
    "var_st = math.sqrt((sum(t-average_ch_st)+(n-1-average_ch_st))/n)\r\n",
    "var_ch = math.sqrt((2*(1-average_ch_st)(n-2)(2-average_ch_st))/n)\r\n",
    "\r\n",
    "\r\n",
    "\r\n"
   ],
   "outputs": [],
   "metadata": {}
  }
 ]
}