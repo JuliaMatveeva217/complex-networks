{
 "cells": [
  {
   "cell_type": "code",
   "execution_count": 53,
   "source": [
    "from random import random\r\n",
    "import random\r\n",
    "import math"
   ],
   "outputs": [],
   "metadata": {}
  },
  {
   "cell_type": "code",
   "execution_count": 54,
   "source": [
    "L = random.randint(0,100)\r\n",
    "print(L)\r\n",
    "As = L**2\r\n",
    "print(As)\r\n",
    "Ac = math.pi*((L/2)**2)\r\n",
    "print(Ac)\r\n",
    "P_dot_inside_circle= Ac/As\r\n",
    "print(P_dot_inside_circle)"
   ],
   "outputs": [
    {
     "output_type": "stream",
     "name": "stdout",
     "text": [
      "5\n",
      "25\n",
      "19.634954084936208\n",
      "0.7853981633974483\n"
     ]
    }
   ],
   "metadata": {}
  }
 ],
 "metadata": {
  "orig_nbformat": 4,
  "language_info": {
   "name": "python",
   "version": "3.9.6",
   "mimetype": "text/x-python",
   "codemirror_mode": {
    "name": "ipython",
    "version": 3
   },
   "pygments_lexer": "ipython3",
   "nbconvert_exporter": "python",
   "file_extension": ".py"
  },
  "kernelspec": {
   "name": "python3",
   "display_name": "Python 3.9.6 64-bit"
  },
  "interpreter": {
   "hash": "265190e187e2744186225102f3b23063f79144f10ca66b8984ff8a106f7c5ca8"
  }
 },
 "nbformat": 4,
 "nbformat_minor": 2
}