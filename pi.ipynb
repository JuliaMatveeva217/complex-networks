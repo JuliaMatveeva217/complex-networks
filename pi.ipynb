{
 "cells": [
  {
   "cell_type": "code",
   "execution_count": 43,
   "metadata": {},
   "outputs": [],
   "source": [
    "from random import random\n",
    "import random\n",
    "import math\n",
    "from math import sqrt\n",
    "import cmath \n",
    "from cmath import sqrt"
   ]
  },
  {
   "cell_type": "code",
   "execution_count": 44,
   "metadata": {},
   "outputs": [
    {
     "name": "stdout",
     "output_type": "stream",
     "text": [
      "[12, 2]\n",
      "The point is inside the circle.\n"
     ]
    }
   ],
   "source": [
    "L = random.randint(10,30)\n",
    "#print(L)\n",
    "r = float(L/2)\n",
    "central_point = [r, r]\n",
    "#print(central_point)\n",
    "sample_point= random.sample(range(0,L), 2)\n",
    "print(sample_point)\n",
    "\n",
    "\n",
    "#Does the sample point lie within a circle area? We use Pythagorean theorem to find out.\n",
    "d= math.sqrt((sample_point[0]-central_point[0])**2+(sample_point[-1]-central_point[-1])**2)\n",
    "#print(d)\n",
    "\n",
    "if d**2 < r**2:\n",
    "    print(\"The point is inside the circle.\")\n",
    "elif d**2 == r**2:\n",
    "    print(\"The point is on the cirle.\")\n",
    "else:\n",
    "    print(\"The point is outside the cirle.\")\n"
   ]
  },
  {
   "cell_type": "code",
   "execution_count": 45,
   "metadata": {},
   "outputs": [
    {
     "name": "stdout",
     "output_type": "stream",
     "text": [
      "[20, 20]\n",
      "400\n",
      "314.1592653589793\n",
      "0.7853981633974483\n"
     ]
    }
   ],
   "source": [
    "A = [L,L]\n",
    "print(A)\n",
    "As = L**2\n",
    "print(As)\n",
    "Ac = math.pi*(r**2)\n",
    "print(Ac)\n",
    "P_dot_inside_circle= Ac/As\n",
    "print(P_dot_inside_circle)"
   ]
  },
  {
   "cell_type": "code",
   "execution_count": 46,
   "metadata": {},
   "outputs": [
    {
     "name": "stdout",
     "output_type": "stream",
     "text": [
      "3.1408\n"
     ]
    }
   ],
   "source": [
    "sample_points = list()\n",
    "for i in range(1000000):\n",
    "    sample_point2 = random.uniform(0,L), random.uniform(0,L)\n",
    "    sample_points.append(sample_point2)\n",
    "#print(sample_points)\n",
    "\n",
    "Nc=list()\n",
    "Ns=list()\n",
    "for item in sample_points:\n",
    "    d_2 = math.sqrt((item[0]-central_point[0])**2+(item[-1]-central_point[-1])**2)\n",
    "    if d_2 <= r:\n",
    "        Nc.append(item)\n",
    "    else:\n",
    "        Ns.append(item)\n",
    "#print(\"CIRCLE:\",Nc)\n",
    "#print(\"SQUARE:\",Ns)\n",
    "\n",
    "i = (len(Nc)/(len(Ns)+len(Nc)))*4\n",
    "print(i)"
   ]
  }
 ],
 "metadata": {
  "interpreter": {
   "hash": "265190e187e2744186225102f3b23063f79144f10ca66b8984ff8a106f7c5ca8"
  },
  "kernelspec": {
   "display_name": "Python 3.9.6 64-bit",
   "name": "python3"
  },
  "language_info": {
   "codemirror_mode": {
    "name": "ipython",
    "version": 3
   },
   "file_extension": ".py",
   "mimetype": "text/x-python",
   "name": "python",
   "nbconvert_exporter": "python",
   "pygments_lexer": "ipython3",
   "version": "3.9.6"
  },
  "orig_nbformat": 4
 },
 "nbformat": 4,
 "nbformat_minor": 2
}
