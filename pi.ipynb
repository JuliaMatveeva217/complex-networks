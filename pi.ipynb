{
 "cells": [
  {
   "cell_type": "code",
   "execution_count": 39,
   "source": [
    "from random import random\r\n",
    "import random\r\n",
    "import math\r\n",
    "from math import sqrt\r\n",
    "import cmath \r\n",
    "from cmath import sqrt"
   ],
   "outputs": [],
   "metadata": {}
  },
  {
   "cell_type": "code",
   "execution_count": 40,
   "source": [
    "L = random.randint(10,30)\r\n",
    "#print(L)\r\n",
    "r = float(L/2)\r\n",
    "central_point = [r, r]\r\n",
    "#print(central_point)\r\n",
    "sample_point= random.sample(range(0,L), 2)\r\n",
    "print(sample_point)\r\n",
    "\r\n",
    "\r\n",
    "#Does the sample point lie within a circle area? We use Pythagorean theorem to find out.\r\n",
    "d= math.sqrt((sample_point[0]-central_point[0])**2+(sample_point[-1]-central_point[-1])**2)\r\n",
    "#print(d)\r\n",
    "\r\n",
    "if d**2 < r**2:\r\n",
    "    print(\"The point is inside the circle.\")\r\n",
    "elif d**2 == r**2:\r\n",
    "    print(\"The point is on the cirle.\")\r\n",
    "else:\r\n",
    "    print(\"The point is outside the cirle.\")\r\n"
   ],
   "outputs": [
    {
     "output_type": "stream",
     "name": "stdout",
     "text": [
      "[6, 22]\n",
      "The point is inside the circle.\n"
     ]
    }
   ],
   "metadata": {}
  },
  {
   "cell_type": "code",
   "execution_count": 41,
   "source": [
    "A = [L,L]\r\n",
    "print(A)\r\n",
    "As = L**2\r\n",
    "print(As)\r\n",
    "Ac = math.pi*(r**2)\r\n",
    "print(Ac)\r\n",
    "P_dot_inside_circle= Ac/As\r\n",
    "print(P_dot_inside_circle)"
   ],
   "outputs": [
    {
     "output_type": "stream",
     "name": "stdout",
     "text": [
      "[26, 26]\n",
      "676\n",
      "530.929158456675\n",
      "0.7853981633974483\n"
     ]
    }
   ],
   "metadata": {}
  },
  {
   "cell_type": "code",
   "execution_count": 42,
   "source": [
    "sample_points = list()\r\n",
    "for i in range(100000):\r\n",
    "    sample_point2 = random.uniform(0,L), random.uniform(0,L)\r\n",
    "    sample_points.append(sample_point2)\r\n",
    "#print(sample_points)\r\n",
    "\r\n",
    "Nc=list()\r\n",
    "Ns=list()\r\n",
    "for item in sample_points:\r\n",
    "    d_2 = math.sqrt((item[0]-central_point[0])**2+(item[-1]-central_point[-1])**2)\r\n",
    "    if d_2 <= r:\r\n",
    "        Nc.append(item)\r\n",
    "    else:\r\n",
    "        Ns.append(item)\r\n",
    "#print(\"CIRCLE:\",Nc)\r\n",
    "#print(\"SQUARE:\",Ns)\r\n",
    "\r\n",
    "i = (len(Nc)/(len(Ns)+len(Nc)))*4\r\n",
    "print(i)"
   ],
   "outputs": [
    {
     "output_type": "stream",
     "name": "stdout",
     "text": [
      "3.14568\n"
     ]
    }
   ],
   "metadata": {}
  }
 ],
 "metadata": {
  "orig_nbformat": 4,
  "language_info": {
   "name": "python",
   "version": "3.9.6",
   "mimetype": "text/x-python",
   "codemirror_mode": {
    "name": "ipython",
    "version": 3
   },
   "pygments_lexer": "ipython3",
   "nbconvert_exporter": "python",
   "file_extension": ".py"
  },
  "kernelspec": {
   "name": "python3",
   "display_name": "Python 3.9.6 64-bit"
  },
  "interpreter": {
   "hash": "265190e187e2744186225102f3b23063f79144f10ca66b8984ff8a106f7c5ca8"
  }
 },
 "nbformat": 4,
 "nbformat_minor": 2
}