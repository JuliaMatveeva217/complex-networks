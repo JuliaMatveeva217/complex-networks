{
 "cells": [
  {
   "cell_type": "code",
   "execution_count": 350,
   "source": [
    "from random import random\r\n",
    "import random\r\n",
    "import math\r\n",
    "from math import sqrt\r\n",
    "import cmath \r\n",
    "from cmath import sqrt"
   ],
   "outputs": [],
   "metadata": {}
  },
  {
   "cell_type": "code",
   "execution_count": 351,
   "source": [
    "L = random.randint(10,30)\r\n",
    "#print(L)\r\n",
    "central_point = [L/2, L/2]\r\n",
    "#print(central_point)\r\n",
    "sample_point= random.sample(range(0,L), 2)\r\n",
    "#print(sample_point)\r\n",
    "r = L/2\r\n",
    "#print(r)\r\n",
    "\r\n",
    "#Does the sample point lie within a circle area? We use Pythagorean theorem to find out.\r\n",
    "d= math.sqrt((sample_point[0]-central_point[0])**2+(sample_point[-1]-central_point[-1])**2)\r\n",
    "#print(d)\r\n",
    "\r\n",
    "if d**2 < r**2:\r\n",
    "    print(\"The point is inside the circle.\")\r\n",
    "elif d**2 == r**2:\r\n",
    "    print(\"The point is on the cirle.\")\r\n",
    "else:\r\n",
    "    print(\"The point is outside the cirle.\")\r\n"
   ],
   "outputs": [
    {
     "output_type": "stream",
     "name": "stdout",
     "text": [
      "The point is inside the circle.\n"
     ]
    }
   ],
   "metadata": {}
  },
  {
   "cell_type": "code",
   "execution_count": 352,
   "source": [
    "A = [L,L]\r\n",
    "print(A)\r\n",
    "As = L**2\r\n",
    "print(As)\r\n",
    "Ac = math.pi*((L/2)**2)\r\n",
    "print(Ac)\r\n",
    "P_dot_inside_circle= Ac/As\r\n",
    "print(P_dot_inside_circle)"
   ],
   "outputs": [
    {
     "output_type": "stream",
     "name": "stdout",
     "text": [
      "[15, 15]\n",
      "225\n",
      "176.71458676442586\n",
      "0.7853981633974483\n"
     ]
    }
   ],
   "metadata": {}
  },
  {
   "cell_type": "code",
   "execution_count": 354,
   "source": [
    "#calculating pi\r\n",
    "i = (Ac/As)*4\r\n",
    "i \r\n",
    "\r\n"
   ],
   "outputs": [
    {
     "output_type": "execute_result",
     "data": {
      "text/plain": [
       "3.141592653589793"
      ]
     },
     "metadata": {},
     "execution_count": 354
    }
   ],
   "metadata": {}
  }
 ],
 "metadata": {
  "orig_nbformat": 4,
  "language_info": {
   "name": "python",
   "version": "3.9.6",
   "mimetype": "text/x-python",
   "codemirror_mode": {
    "name": "ipython",
    "version": 3
   },
   "pygments_lexer": "ipython3",
   "nbconvert_exporter": "python",
   "file_extension": ".py"
  },
  "kernelspec": {
   "name": "python3",
   "display_name": "Python 3.9.6 64-bit"
  },
  "interpreter": {
   "hash": "265190e187e2744186225102f3b23063f79144f10ca66b8984ff8a106f7c5ca8"
  }
 },
 "nbformat": 4,
 "nbformat_minor": 2
}